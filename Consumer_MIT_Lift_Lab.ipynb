{
  "nbformat": 4,
  "nbformat_minor": 0,
  "metadata": {
    "colab": {
      "provenance": [],
      "authorship_tag": "ABX9TyPz2MjpLdwy1HMGxtAGtsxa",
      "include_colab_link": true
    },
    "kernelspec": {
      "name": "python3",
      "display_name": "Python 3"
    },
    "language_info": {
      "name": "python"
    }
  },
  "cells": [
    {
      "cell_type": "markdown",
      "metadata": {
        "id": "view-in-github",
        "colab_type": "text"
      },
      "source": [
        "<a href=\"https://colab.research.google.com/github/gcv-tec/Examen1/blob/main/Consumer_MIT_Lift_Lab.ipynb\" target=\"_parent\"><img src=\"https://colab.research.google.com/assets/colab-badge.svg\" alt=\"Open In Colab\"/></a>"
      ]
    },
    {
      "cell_type": "code",
      "execution_count": 1,
      "metadata": {
        "id": "8_rQtpIP5EQ9"
      },
      "outputs": [],
      "source": [
        "import pandas as pd\n",
        "import numpy as np\n",
        "import matplotlib.pyplot as plt"
      ]
    },
    {
      "cell_type": "code",
      "source": [
        "from google.colab import files \n",
        "files.upload()"
      ],
      "metadata": {
        "id": "iJUG8GkZ5984"
      },
      "execution_count": null,
      "outputs": []
    },
    {
      "cell_type": "code",
      "source": [
        "#Carga desde un archivo .csv sin indice\n",
        "data = pd.read_excel('consumer_mit_lift_lab.xlsx')\n",
        "data"
      ],
      "metadata": {
        "id": "A6vsqwP36AhY"
      },
      "execution_count": null,
      "outputs": []
    },
    {
      "cell_type": "code",
      "source": [
        "#Checamos la información que contiene nuestro dataframe para tener una vista general y saber como manejar de mejor\n",
        "#manera los datos\n",
        "data.info()\n"
      ],
      "metadata": {
        "colab": {
          "base_uri": "https://localhost:8080/"
        },
        "id": "mvPRvpgo6UIE",
        "outputId": "a3ff2293-e9e6-4ef8-fb0f-085cd805dd87"
      },
      "execution_count": 4,
      "outputs": [
        {
          "output_type": "stream",
          "name": "stdout",
          "text": [
            "<class 'pandas.core.frame.DataFrame'>\n",
            "RangeIndex: 115 entries, 0 to 114\n",
            "Data columns (total 36 columns):\n",
            " #   Column                                    Non-Null Count  Dtype  \n",
            "---  ------                                    --------------  -----  \n",
            " 0   _record_id                                115 non-null    object \n",
            " 1   _title                                    115 non-null    object \n",
            " 2   _server_updated_at                        115 non-null    object \n",
            " 3   _updated_by                               115 non-null    object \n",
            " 4   _geometry                                 115 non-null    object \n",
            " 5   _latitude                                 115 non-null    float64\n",
            " 6   _longitude                                115 non-null    float64\n",
            " 7   282_payment_method_that_purchase          115 non-null    object \n",
            " 8   283_fulfill_needs                         115 non-null    object \n",
            " 9   300_did_not_find                          6 non-null      object \n",
            " 10  237_distance_household_interviewee        115 non-null    object \n",
            " 11  299_means_transportation_consumer         115 non-null    object \n",
            " 12  238_frequency_buying_store                115 non-null    int64  \n",
            " 13  284_additional_products_store             4 non-null      object \n",
            " 14  301_electricity_bill                      115 non-null    object \n",
            " 15  305_electricity_bill_store                108 non-null    object \n",
            " 16  302_water_bill                            115 non-null    object \n",
            " 17  306_water_bill_store                      111 non-null    object \n",
            " 18  303_gas_bill                              115 non-null    object \n",
            " 19  307_gas_bill_store                        112 non-null    object \n",
            " 20  286_topups                                115 non-null    object \n",
            " 21  308_topups_in_store                       103 non-null    object \n",
            " 22  287_wire_transfers                        115 non-null    object \n",
            " 23  309_wiretransfers_in_store                113 non-null    object \n",
            " 24  320_other_services_in_store               115 non-null    object \n",
            " 25  304_additional_services_store             29 non-null     object \n",
            " 26  81_number_online_purchases_month          115 non-null    int64  \n",
            " 27  288_number_app_purchases_month            115 non-null    int64  \n",
            " 28  289_number_whatsapp_purchases_month       115 non-null    int64  \n",
            " 29  83_willingness_ultrafast_delivery         115 non-null    int64  \n",
            " 30  84_willingness_sameday_delivery           115 non-null    int64  \n",
            " 31  241_age_of_the_interviewee                115 non-null    int64  \n",
            " 32  240_gender_interviewee                    115 non-null    object \n",
            " 33  indicate_the_type_of_store                115 non-null    object \n",
            " 34  name_of_the_store                         115 non-null    object \n",
            " 35  storefront_picture_just_once_if_possible  104 non-null    object \n",
            "dtypes: float64(2), int64(7), object(27)\n",
            "memory usage: 32.5+ KB\n"
          ]
        }
      ]
    },
    {
      "cell_type": "code",
      "source": [
        "#Corroboramos valores nulos\n",
        "valores_nulos = data.isnull().sum()\n",
        "valores_nulos"
      ],
      "metadata": {
        "colab": {
          "base_uri": "https://localhost:8080/"
        },
        "id": "ukDstPS86QZq",
        "outputId": "b4f2b62d-64d7-45b4-8058-1c24a1828681"
      },
      "execution_count": 5,
      "outputs": [
        {
          "output_type": "execute_result",
          "data": {
            "text/plain": [
              "_record_id                                    0\n",
              "_title                                        0\n",
              "_server_updated_at                            0\n",
              "_updated_by                                   0\n",
              "_geometry                                     0\n",
              "_latitude                                     0\n",
              "_longitude                                    0\n",
              "282_payment_method_that_purchase              0\n",
              "283_fulfill_needs                             0\n",
              "300_did_not_find                            109\n",
              "237_distance_household_interviewee            0\n",
              "299_means_transportation_consumer             0\n",
              "238_frequency_buying_store                    0\n",
              "284_additional_products_store               111\n",
              "301_electricity_bill                          0\n",
              "305_electricity_bill_store                    7\n",
              "302_water_bill                                0\n",
              "306_water_bill_store                          4\n",
              "303_gas_bill                                  0\n",
              "307_gas_bill_store                            3\n",
              "286_topups                                    0\n",
              "308_topups_in_store                          12\n",
              "287_wire_transfers                            0\n",
              "309_wiretransfers_in_store                    2\n",
              "320_other_services_in_store                   0\n",
              "304_additional_services_store                86\n",
              "81_number_online_purchases_month              0\n",
              "288_number_app_purchases_month                0\n",
              "289_number_whatsapp_purchases_month           0\n",
              "83_willingness_ultrafast_delivery             0\n",
              "84_willingness_sameday_delivery               0\n",
              "241_age_of_the_interviewee                    0\n",
              "240_gender_interviewee                        0\n",
              "indicate_the_type_of_store                    0\n",
              "name_of_the_store                             0\n",
              "storefront_picture_just_once_if_possible     11\n",
              "dtype: int64"
            ]
          },
          "metadata": {},
          "execution_count": 5
        }
      ]
    },
    {
      "cell_type": "code",
      "source": [
        "#Aplicamos el método de rellenar con 0, debido a que la columna no es categórica y a que gracias a que tenemos muchos datos nulos, el utilizar\n",
        "# otro método como bfill o ffill, modificaría en gran medida nuestro análisis.\n",
        "data['300_did_not_find'] = data['300_did_not_find'].fillna(0)\n",
        "data"
      ],
      "metadata": {
        "id": "0Y90O43s8W8t"
      },
      "execution_count": null,
      "outputs": []
    },
    {
      "cell_type": "code",
      "source": [
        "valores_nulos = data.isnull().sum()\n",
        "valores_nulos"
      ],
      "metadata": {
        "id": "K_xhY3EtAC0m"
      },
      "execution_count": null,
      "outputs": []
    },
    {
      "cell_type": "code",
      "source": [
        "#Aplico el primer filtro para determinar la información en 284_additional_products_store\n",
        "filtro1 = data.iloc[80: , 13]\n",
        "filtro1"
      ],
      "metadata": {
        "id": "Z-BbvIUgA48H"
      },
      "execution_count": null,
      "outputs": []
    },
    {
      "cell_type": "code",
      "source": [
        "#Aplicamos el método de rellenar con 0, debido a que la columna no es categórica y a que gracias a que tenemos muchos datos nulos, el utilizar\n",
        "# otro método como bfill o ffill, modificaría en gran medida nuestro análisis.\n",
        "data['284_additional_products_store'] = data['284_additional_products_store'].fillna(0)\n",
        "data"
      ],
      "metadata": {
        "id": "b2juEdlCCIPZ"
      },
      "execution_count": null,
      "outputs": []
    },
    {
      "cell_type": "code",
      "source": [
        "valores_nulos = data.isnull().sum()\n",
        "valores_nulos"
      ],
      "metadata": {
        "id": "NYIc2TrQClEB"
      },
      "execution_count": null,
      "outputs": []
    },
    {
      "cell_type": "code",
      "source": [
        "#Aplico el filtro para determinar la información en 305_electricity_bill_store  \n",
        "filtro2 = data.iloc[80: , 15]\n",
        "filtro2"
      ],
      "metadata": {
        "id": "iFd_JqNHC6Of"
      },
      "execution_count": null,
      "outputs": []
    },
    {
      "cell_type": "code",
      "source": [
        "#En este caso tenemos una variable categórica, en la que se repiten varias respuestas, además tenemos muy pocos valores nulos, por lo que\n",
        "# podríamos sustituir con bfill o ffill y el análisis no se vería tan afectado\n",
        "\n",
        "data['305_electricity_bill_store'] = data['305_electricity_bill_store'].fillna(method = 'ffill')\n",
        "data"
      ],
      "metadata": {
        "id": "0XsJ0HTKDPJK"
      },
      "execution_count": null,
      "outputs": []
    },
    {
      "cell_type": "code",
      "source": [
        "valores_nulos = data.isnull().sum()\n",
        "valores_nulos"
      ],
      "metadata": {
        "id": "ErQ3BQQiDw2F"
      },
      "execution_count": null,
      "outputs": []
    },
    {
      "cell_type": "code",
      "source": [
        "#Ahora analizamos la variable 306_water_bill_store, debido a que es de la misma naturaleza que la variable anterior (si/no)\n",
        "# podemos aplicar la misma técnica de sustitución. Además hay muy pocos datos nulos, por lo que utilizar ffill no afectaría al análisis en gran medida\n",
        "data['306_water_bill_store'] = data['306_water_bill_store'].fillna(method = 'ffill')\n",
        "data"
      ],
      "metadata": {
        "id": "ZhhWW6PnEDml"
      },
      "execution_count": null,
      "outputs": []
    },
    {
      "cell_type": "code",
      "source": [
        "valores_nulos = data.isnull().sum()\n",
        "valores_nulos"
      ],
      "metadata": {
        "id": "LrNKReFAEnju"
      },
      "execution_count": null,
      "outputs": []
    },
    {
      "cell_type": "code",
      "source": [
        "#Ahora analizamos la variable 307_gas_bill_store, debido a que es de la misma naturaleza que la variable anterior (si/no)\n",
        "# podemos aplicar la misma técnica de sustitución. Además hay muy pocos datos nulos, por lo que utilizar ffill no afectaría al análisis en gran medida\n",
        "data['307_gas_bill_store'] = data['307_gas_bill_store'].fillna(method = 'ffill')\n",
        "data"
      ],
      "metadata": {
        "id": "dhfJPawOEuOo"
      },
      "execution_count": null,
      "outputs": []
    },
    {
      "cell_type": "code",
      "source": [
        "valores_nulos = data.isnull().sum()\n",
        "valores_nulos"
      ],
      "metadata": {
        "id": "G8oYKJGuFXjY"
      },
      "execution_count": null,
      "outputs": []
    },
    {
      "cell_type": "code",
      "source": [
        "#Aplico el filtro para determinar la información en   308_topups_in_store\n",
        "filtro3 = data.iloc[80: , 21]\n",
        "filtro3"
      ],
      "metadata": {
        "id": "76fqviYSFp3M"
      },
      "execution_count": null,
      "outputs": []
    },
    {
      "cell_type": "code",
      "source": [
        "#Ahora analizamos la variable 308_topups_in_store, debido a que es de la misma naturaleza que la variable anterior (si/no)\n",
        "# podemos aplicar la misma técnica de sustitución. Además hay muy pocos datos nulos, por lo que utilizar ffill no afectaría al análisis en gran medida\n",
        "data['308_topups_in_store'] = data['308_topups_in_store'].fillna(method = 'ffill')\n",
        "data"
      ],
      "metadata": {
        "id": "bXVxxv4GF3To"
      },
      "execution_count": null,
      "outputs": []
    },
    {
      "cell_type": "code",
      "source": [
        "valores_nulos = data.isnull().sum()\n",
        "valores_nulos"
      ],
      "metadata": {
        "id": "3hGI-bsoF8pa"
      },
      "execution_count": null,
      "outputs": []
    },
    {
      "cell_type": "code",
      "source": [
        "#Aplico el filtro para determinar la información en   309_wiretransfers_in_store\n",
        "filtro4 = data.iloc[80: , 23]\n",
        "filtro4"
      ],
      "metadata": {
        "id": "T-4xj_xUGQEk"
      },
      "execution_count": null,
      "outputs": []
    },
    {
      "cell_type": "code",
      "source": [
        "#Ahora analizamos la variable 309_wiretransfers_in_store, debido a que es de la misma naturaleza que la variable anterior (si/no)\n",
        "# podemos aplicar la misma técnica de sustitución. Además hay muy pocos datos nulos, por lo que utilizar ffill no afectaría al análisis en gran medida\n",
        "data['309_wiretransfers_in_store'] = data['309_wiretransfers_in_store'].fillna(method = 'ffill')\n",
        "data"
      ],
      "metadata": {
        "id": "emNfXEiiGL6t"
      },
      "execution_count": null,
      "outputs": []
    },
    {
      "cell_type": "code",
      "source": [
        "valores_nulos = data.isnull().sum()\n",
        "valores_nulos"
      ],
      "metadata": {
        "id": "9JK1a4ANGfH6"
      },
      "execution_count": null,
      "outputs": []
    },
    {
      "cell_type": "code",
      "source": [
        "#Aplico el filtro para determinar la información en   304_additional_services_store\n",
        "filtro4 = data.iloc[80: , 25]\n",
        "filtro4"
      ],
      "metadata": {
        "id": "YvLoXkejGnvG"
      },
      "execution_count": null,
      "outputs": []
    },
    {
      "cell_type": "code",
      "source": [
        "#Aplicamos el método de rellenar con 0, debido a que la columna no es categórica y a que gracias a que tenemos muchos datos nulos, el utilizar\n",
        "# otro método como bfill o ffill, modificaría en gran medida nuestro análisis.\n",
        "data['304_additional_services_store'] = data['304_additional_services_store'].fillna(0)\n",
        "data"
      ],
      "metadata": {
        "id": "4RXp0baKGq5R"
      },
      "execution_count": null,
      "outputs": []
    },
    {
      "cell_type": "code",
      "source": [
        "valores_nulos = data.isnull().sum()\n",
        "valores_nulos"
      ],
      "metadata": {
        "id": "mLRLsrDCHL6H"
      },
      "execution_count": null,
      "outputs": []
    },
    {
      "cell_type": "code",
      "source": [
        "#Aplico el filtro para determinar la información en   304_additional_services_store\n",
        "filtro5 = data.iloc[80: , 35]\n",
        "filtro5"
      ],
      "metadata": {
        "id": "PWa0VjLgH5SV"
      },
      "execution_count": null,
      "outputs": []
    },
    {
      "cell_type": "code",
      "source": [
        "#Aplicamos el método de rellenar con 0, debido a que la columna no es categórica y a que gracias a que tenemos muchos datos nulos, el utilizar\n",
        "# otro método como bfill o ffill, modificaría en gran medida nuestro análisis.\n",
        "data['storefront_picture_just_once_if_possible'] = data['storefront_picture_just_once_if_possible'].fillna(0)\n",
        "data"
      ],
      "metadata": {
        "id": "97yUxsyrIF2t"
      },
      "execution_count": null,
      "outputs": []
    },
    {
      "cell_type": "code",
      "source": [
        "#Corroboramos que ya no haya valores nulos\n",
        "valores_nulos = data.isnull().sum().sum()\n",
        "valores_nulos"
      ],
      "metadata": {
        "id": "U92BtTzWIRih"
      },
      "execution_count": null,
      "outputs": []
    },
    {
      "cell_type": "markdown",
      "source": [
        "Outliers\n"
      ],
      "metadata": {
        "id": "vTcTrx63IWoe"
      }
    },
    {
      "cell_type": "code",
      "source": [
        "#Verificamos la información del dataframe \n",
        "data.info()"
      ],
      "metadata": {
        "id": "P1U-t-fwIXyV"
      },
      "execution_count": null,
      "outputs": []
    },
    {
      "cell_type": "code",
      "source": [
        "#Aplicamos un filtro que nos permita obtener las variables cuantitativas del dataframe anterior\n",
        "\n",
        "filtro_cuant = data.iloc[: ,[5,6,12,26,27,28,29,30,31]]\n",
        "filtro_cuant\n"
      ],
      "metadata": {
        "id": "E29zFA2kIovN"
      },
      "execution_count": null,
      "outputs": []
    },
    {
      "cell_type": "code",
      "source": [
        "#Aplicamos filtro que nos permita obtener las variables cualitativas del dataframe anterior\n",
        "\n",
        "filtro_cualt = data.iloc[: ,[1,2,3,4,7,8,9,10,11,12,13,14,15,16,17,18,19,20,21,22,23,24,25,32,33,34,35]]"
      ],
      "metadata": {
        "id": "Yncz5jUTa_qy"
      },
      "execution_count": 184,
      "outputs": []
    },
    {
      "cell_type": "code",
      "source": [
        "#Eliminamos las dos primeras columnas debido a que no proporcionan información que sea útil o de relevancia\n",
        "filtro_cuant = filtro_cuant.drop(['_latitude', '_longitude'],axis = 1)\n",
        "filtro_cuant"
      ],
      "metadata": {
        "id": "9WVuiPoNKzm0"
      },
      "execution_count": null,
      "outputs": []
    },
    {
      "cell_type": "code",
      "source": [
        "#Realizamos histograma de 238_frequency_buying_store\n",
        "fig = plt.figure(figsize = (7, 5))\n",
        "plt.hist(x = data['238_frequency_buying_store'], color = 'blue', rwidth = 0.50) #rwidth es para ancho de barras\n",
        "plt.title('Hisotgrama de Frequency Buying Store')\n",
        "plt.xlabel('Precio Venta')\n",
        "plt.ylabel('Frecuencia')\n",
        "\n",
        "plt.show()"
      ],
      "metadata": {
        "id": "C22T79rlL6_k"
      },
      "execution_count": null,
      "outputs": []
    },
    {
      "cell_type": "code",
      "source": [
        "#Realizamos un diagrama de caja y bigotes de 238_frequency_buying_store\n",
        "fig = plt.figure(figsize = (10, 6))\n",
        "plt.boxplot(data['238_frequency_buying_store'])\n",
        "plt.title('Outliers de Precio Venta')"
      ],
      "metadata": {
        "id": "iK7XESPyObcj"
      },
      "execution_count": null,
      "outputs": []
    },
    {
      "cell_type": "code",
      "source": [
        "#Aplicamos el método de IQR para encontrar límites de valores atípicos\n",
        "from numpy.lib.function_base import percentile\n",
        "#Método aplicando cuartiles . Encuentro cuartiles 0.25 y 0.75\n",
        "y = filtro_cuant\n",
        "\n",
        "percentile25 = y.quantile(0.25) #Q1\n",
        "percentile75 = y.quantile(0.75) #Q3\n",
        "iqr = percentile75 - percentile25\n",
        "\n",
        "Limite_Superior_iqr = percentile75 + 1.5*iqr\n",
        "Limite_Inferior_iqr = percentile25 - 1.5*iqr\n",
        "print('Limite Superior permitido', Limite_Superior_iqr)\n",
        "print('Limite inferior permitido', Limite_Inferior_iqr)"
      ],
      "metadata": {
        "id": "QPBVtqEaOj1z"
      },
      "execution_count": null,
      "outputs": []
    },
    {
      "cell_type": "code",
      "source": [
        "#Encontramos Outliers\n",
        "outliers_iqr = filtro_cuant[(y<Limite_Inferior_iqr)|(y>Limite_Superior_iqr)]\n",
        "outliers_iqr"
      ],
      "metadata": {
        "id": "WwVOPUi_TJay"
      },
      "execution_count": null,
      "outputs": []
    },
    {
      "cell_type": "code",
      "source": [
        "#Encontramos Insider\n",
        "data_clean_iqr = filtro_cuant[(y<=Limite_Superior_iqr)&(y>=Limite_Inferior_iqr)]\n",
        "data_clean_iqr"
      ],
      "metadata": {
        "id": "vmtNvPJZO_e6"
      },
      "execution_count": null,
      "outputs": []
    },
    {
      "cell_type": "code",
      "source": [
        "fig = plt.figure(figsize = (10, 6))\n",
        "plt.boxplot(data_clean_iqr['81_number_online_purchases_month'])\n",
        "plt.title('Outliers de Precio Venta')"
      ],
      "metadata": {
        "id": "eic7jJpKP00s"
      },
      "execution_count": null,
      "outputs": []
    },
    {
      "cell_type": "code",
      "source": [
        "#Corroboramos que ya no haya valores nulos\n",
        "valores_nulos = filtro_cuant.isnull().sum().sum()\n",
        "valores_nulos"
      ],
      "metadata": {
        "id": "oiQr3YJWUrz_"
      },
      "execution_count": null,
      "outputs": []
    },
    {
      "cell_type": "code",
      "source": [
        "#Reemplazamos valores atípicos (nulos) del dataframe con 'mean'\n",
        "#Realizamos una copia del DataFrame\n",
        "data_clean = data_clean_iqr.copy()\n",
        "data_clean = data_clean.fillna(round(data_clean_iqr.mean(),1))\n",
        "data_clean  "
      ],
      "metadata": {
        "id": "jODyaVjHWb9B"
      },
      "execution_count": null,
      "outputs": []
    },
    {
      "cell_type": "code",
      "source": [
        "fig = plt.figure(figsize = (10, 6))\n",
        "plt.boxplot(data_clean['238_frequency_buying_store'])\n",
        "plt.title('Outliers de Frecuencia de Compraº')"
      ],
      "metadata": {
        "id": "8gQ2gQkxZmUH"
      },
      "execution_count": null,
      "outputs": []
    },
    {
      "cell_type": "code",
      "source": [
        "#Concatenamos nuestros datos \n",
        "\n",
        "Datos_limpios = pd.concat([data_clean, filtro_cualt], axis=1)\n",
        "Datos_limpios"
      ],
      "metadata": {
        "id": "sm7AzXUhZtLL"
      },
      "execution_count": null,
      "outputs": []
    },
    {
      "cell_type": "code",
      "source": [
        "Datos_limpios.info()"
      ],
      "metadata": {
        "id": "n-yPOojhbc-S"
      },
      "execution_count": null,
      "outputs": []
    },
    {
      "cell_type": "code",
      "source": [
        "#Converir Dataframe a csv\n",
        "Datos_limpios.to_csv('Datos_limpios.csv')"
      ],
      "metadata": {
        "id": "bhc-e1Tgcfy9"
      },
      "execution_count": 192,
      "outputs": []
    },
    {
      "cell_type": "code",
      "source": [
        "from google.colab import files\n",
        "\n",
        "files.download('Datos_limpios.csv')"
      ],
      "metadata": {
        "colab": {
          "base_uri": "https://localhost:8080/",
          "height": 17
        },
        "id": "QSuMSUJMcTFK",
        "outputId": "d8b7fae6-e121-4a11-849f-f96f09cf6626"
      },
      "execution_count": 193,
      "outputs": [
        {
          "output_type": "display_data",
          "data": {
            "text/plain": [
              "<IPython.core.display.Javascript object>"
            ],
            "application/javascript": [
              "\n",
              "    async function download(id, filename, size) {\n",
              "      if (!google.colab.kernel.accessAllowed) {\n",
              "        return;\n",
              "      }\n",
              "      const div = document.createElement('div');\n",
              "      const label = document.createElement('label');\n",
              "      label.textContent = `Downloading \"${filename}\": `;\n",
              "      div.appendChild(label);\n",
              "      const progress = document.createElement('progress');\n",
              "      progress.max = size;\n",
              "      div.appendChild(progress);\n",
              "      document.body.appendChild(div);\n",
              "\n",
              "      const buffers = [];\n",
              "      let downloaded = 0;\n",
              "\n",
              "      const channel = await google.colab.kernel.comms.open(id);\n",
              "      // Send a message to notify the kernel that we're ready.\n",
              "      channel.send({})\n",
              "\n",
              "      for await (const message of channel.messages) {\n",
              "        // Send a message to notify the kernel that we're ready.\n",
              "        channel.send({})\n",
              "        if (message.buffers) {\n",
              "          for (const buffer of message.buffers) {\n",
              "            buffers.push(buffer);\n",
              "            downloaded += buffer.byteLength;\n",
              "            progress.value = downloaded;\n",
              "          }\n",
              "        }\n",
              "      }\n",
              "      const blob = new Blob(buffers, {type: 'application/binary'});\n",
              "      const a = document.createElement('a');\n",
              "      a.href = window.URL.createObjectURL(blob);\n",
              "      a.download = filename;\n",
              "      div.appendChild(a);\n",
              "      a.click();\n",
              "      div.remove();\n",
              "    }\n",
              "  "
            ]
          },
          "metadata": {}
        },
        {
          "output_type": "display_data",
          "data": {
            "text/plain": [
              "<IPython.core.display.Javascript object>"
            ],
            "application/javascript": [
              "download(\"download_0e87e47b-7055-4a00-8cec-dfff0dff651f\", \"Datos_limpios.csv\", 45165)"
            ]
          },
          "metadata": {}
        }
      ]
    }
  ]
}